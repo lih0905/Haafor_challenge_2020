{
 "cells": [
  {
   "cell_type": "code",
   "execution_count": null,
   "metadata": {},
   "outputs": [],
   "source": [
    "import pandas as pd"
   ]
  },
  {
   "cell_type": "code",
   "execution_count": null,
   "metadata": {},
   "outputs": [],
   "source": [
    "df = pd.read_csv('Data/training.csv')"
   ]
  },
  {
   "cell_type": "code",
   "execution_count": 22,
   "metadata": {},
   "outputs": [
    {
     "data": {
      "text/html": [
       "<div>\n",
       "<style scoped>\n",
       "    .dataframe tbody tr th:only-of-type {\n",
       "        vertical-align: middle;\n",
       "    }\n",
       "\n",
       "    .dataframe tbody tr th {\n",
       "        vertical-align: top;\n",
       "    }\n",
       "\n",
       "    .dataframe thead th {\n",
       "        text-align: right;\n",
       "    }\n",
       "</style>\n",
       "<table border=\"1\" class=\"dataframe\">\n",
       "  <thead>\n",
       "    <tr style=\"text-align: right;\">\n",
       "      <th></th>\n",
       "      <th>INDEX</th>\n",
       "      <th>BEFORE_HEADLINE</th>\n",
       "      <th>BEFORE_BODY</th>\n",
       "      <th>AFTER_HEADLINE</th>\n",
       "      <th>AFTER_BODY</th>\n",
       "    </tr>\n",
       "  </thead>\n",
       "  <tbody>\n",
       "    <tr>\n",
       "      <th>0</th>\n",
       "      <td>0</td>\n",
       "      <td>Weather, LNG Exports Pace Near-, Long-Term Gas...</td>\n",
       "      <td>Changes in weather affect near-term gas prices...</td>\n",
       "      <td>Weather Volatility Keeps Gas Bulls Guessing on...</td>\n",
       "      <td>Domestic natural gas benchmark prices may be r...</td>\n",
       "    </tr>\n",
       "    <tr>\n",
       "      <th>1</th>\n",
       "      <td>1</td>\n",
       "      <td>Deutsche Bank Gains Pre-Market On DoJ Mortgage...</td>\n",
       "      <td>Deutsche Bank shares up 1% premarket after new...</td>\n",
       "      <td>DZ Bank Keeps Deutsche Bank at 'Sell' Despite ...</td>\n",
       "      <td>DZ Bank retains its sell rating on Deutsche Ba...</td>\n",
       "    </tr>\n",
       "    <tr>\n",
       "      <th>2</th>\n",
       "      <td>2</td>\n",
       "      <td>Select Sector Rally Suggests Bullish HK Undertone</td>\n",
       "      <td>HK rebound today, which snaps 4-day losing str...</td>\n",
       "      <td>HK Short Sales Off 8.9% Friday;Bank Of China Tops</td>\n",
       "      <td>HK short-selling volume down 8.9% at HK$4.763 ...</td>\n",
       "    </tr>\n",
       "    <tr>\n",
       "      <th>3</th>\n",
       "      <td>3</td>\n",
       "      <td>Mexico City's F1 Grand Prix Drives Hotel Revpa...</td>\n",
       "      <td>Mexico's hotel revenue per available room rose...</td>\n",
       "      <td>Mexican Hotels' Revpar Surged on F1 Grand Prix...</td>\n",
       "      <td>Mexico's hotel revenue per available room rose...</td>\n",
       "    </tr>\n",
       "    <tr>\n",
       "      <th>4</th>\n",
       "      <td>4</td>\n",
       "      <td>Gas Injection Again Tops Estimate as Weather I...</td>\n",
       "      <td>Natural gas injections into storage continued ...</td>\n",
       "      <td>Gas Draw Tops Estimate as Weather Ups Demand Y...</td>\n",
       "      <td>The market produced the first withdrawals from...</td>\n",
       "    </tr>\n",
       "  </tbody>\n",
       "</table>\n",
       "</div>"
      ],
      "text/plain": [
       "   INDEX                                    BEFORE_HEADLINE  \\\n",
       "0      0  Weather, LNG Exports Pace Near-, Long-Term Gas...   \n",
       "1      1  Deutsche Bank Gains Pre-Market On DoJ Mortgage...   \n",
       "2      2  Select Sector Rally Suggests Bullish HK Undertone   \n",
       "3      3  Mexico City's F1 Grand Prix Drives Hotel Revpa...   \n",
       "4      4  Gas Injection Again Tops Estimate as Weather I...   \n",
       "\n",
       "                                         BEFORE_BODY  \\\n",
       "0  Changes in weather affect near-term gas prices...   \n",
       "1  Deutsche Bank shares up 1% premarket after new...   \n",
       "2  HK rebound today, which snaps 4-day losing str...   \n",
       "3  Mexico's hotel revenue per available room rose...   \n",
       "4  Natural gas injections into storage continued ...   \n",
       "\n",
       "                                      AFTER_HEADLINE  \\\n",
       "0  Weather Volatility Keeps Gas Bulls Guessing on...   \n",
       "1  DZ Bank Keeps Deutsche Bank at 'Sell' Despite ...   \n",
       "2  HK Short Sales Off 8.9% Friday;Bank Of China Tops   \n",
       "3  Mexican Hotels' Revpar Surged on F1 Grand Prix...   \n",
       "4  Gas Draw Tops Estimate as Weather Ups Demand Y...   \n",
       "\n",
       "                                          AFTER_BODY  \n",
       "0  Domestic natural gas benchmark prices may be r...  \n",
       "1  DZ Bank retains its sell rating on Deutsche Ba...  \n",
       "2  HK short-selling volume down 8.9% at HK$4.763 ...  \n",
       "3  Mexico's hotel revenue per available room rose...  \n",
       "4  The market produced the first withdrawals from...  "
      ]
     },
     "execution_count": 22,
     "metadata": {},
     "output_type": "execute_result"
    }
   ],
   "source": [
    "df.head()"
   ]
  },
  {
   "cell_type": "code",
   "execution_count": 23,
   "metadata": {},
   "outputs": [],
   "source": [
    "exam = df.iloc[0]"
   ]
  },
  {
   "cell_type": "code",
   "execution_count": 24,
   "metadata": {},
   "outputs": [
    {
     "data": {
      "text/plain": [
       "'Weather, LNG Exports Pace Near-, Long-Term Gas Demand: Bull Case'"
      ]
     },
     "execution_count": 24,
     "metadata": {},
     "output_type": "execute_result"
    }
   ],
   "source": [
    "exam[1]"
   ]
  },
  {
   "cell_type": "code",
   "execution_count": 25,
   "metadata": {},
   "outputs": [
    {
     "data": {
      "text/plain": [
       "'Changes in weather affect near-term gas prices, and a mild summer this year may be followed by a warmer-than-average winter, which could pressure prices. Longer-term, the abundant supply of U.S. natural gas will require an additional demand outlet to soak up incremental output to sustain or raise prices. The likely emergence of exports of liquefied natural gas to Asia may satisfy that need. Industrial growth in the U.S. may raise natural gas consumption as well.'"
      ]
     },
     "execution_count": 25,
     "metadata": {},
     "output_type": "execute_result"
    }
   ],
   "source": [
    "exam[2]"
   ]
  },
  {
   "cell_type": "code",
   "execution_count": 26,
   "metadata": {},
   "outputs": [
    {
     "data": {
      "text/plain": [
       "'Weather Volatility Keeps Gas Bulls Guessing on Price Outlook'"
      ]
     },
     "execution_count": 26,
     "metadata": {},
     "output_type": "execute_result"
    }
   ],
   "source": [
    "exam[3]"
   ]
  },
  {
   "cell_type": "code",
   "execution_count": 27,
   "metadata": {},
   "outputs": [
    {
     "data": {
      "text/plain": [
       "'Domestic natural gas benchmark prices may be restrained in the near term given resilient output, in-line storage levels and expectations of less winter heating demand. Milder weather is forecast for the next eight to 14 days. While prices may show seasonal volatility, gas demand will remain restrained near-term if weather is subdued. Gas must compete for market share with coal and nuclear power. Near-term capacity constraints and weather will continue to affect winter basis differentials.'"
      ]
     },
     "execution_count": 27,
     "metadata": {},
     "output_type": "execute_result"
    }
   ],
   "source": [
    "exam[4]"
   ]
  },
  {
   "cell_type": "markdown",
   "metadata": {},
   "source": [
    "일단 길이를 재보자. 그런데 뭔가 오류가 나는 항목이 있어 검사해보자."
   ]
  },
  {
   "cell_type": "code",
   "execution_count": 35,
   "metadata": {},
   "outputs": [
    {
     "name": "stdout",
     "output_type": "stream",
     "text": [
      "nan \t NZX-50 Up 0.1%, But Volumes Remain Light -ForBarr\n",
      "nan \t NZX-50 Closes Down 0.8%; Telecom Weighs\n",
      "NZX-50 +0.2% As Large Cap Stocks Rally \t nan\n",
      "nan \t NZX-50 Edges Down; Market Awaits Greek Deal-ForBarr\n",
      "NZX-50 Down 0.4% Dictated By Order Flow - Craigs \t nan\n"
     ]
    }
   ],
   "source": [
    "bef_len = []\n",
    "aft_len = []\n",
    "for i in range(len(df)):\n",
    "    try:\n",
    "        bef_len.append(len(df['BEFORE_HEADLINE'][i].split()))\n",
    "        aft_len.append(len(df['AFTER_HEADLINE'][i].split()))\n",
    "    except:\n",
    "        print(df['BEFORE_HEADLINE'][i], '\\t', df['AFTER_HEADLINE'][i])"
   ]
  },
  {
   "cell_type": "markdown",
   "metadata": {},
   "source": [
    "nan때문이니 함수를 다음과 같이 짜자"
   ]
  },
  {
   "cell_type": "code",
   "execution_count": 36,
   "metadata": {},
   "outputs": [],
   "source": [
    "def return_token_num(txt):\n",
    "    try:\n",
    "        tt = txt.split()\n",
    "    except AttributeError:\n",
    "        tt= ''\n",
    "    return len(tt)"
   ]
  },
  {
   "cell_type": "code",
   "execution_count": 37,
   "metadata": {},
   "outputs": [],
   "source": [
    "df['BEFORE_BODY_LEN'] = df['BEFORE_BODY'].apply(return_token_num)\n",
    "df['AFTER_BODY_LEN'] = df['AFTER_BODY'].apply(return_token_num)"
   ]
  },
  {
   "cell_type": "code",
   "execution_count": 38,
   "metadata": {},
   "outputs": [],
   "source": [
    "df['BEFORE_HEADLINE_LEN'] = df['BEFORE_HEADLINE'].apply(return_token_num)\n",
    "df['AFTER_HEADLINE_LEN'] = df['AFTER_HEADLINE'].apply(return_token_num)"
   ]
  },
  {
   "cell_type": "code",
   "execution_count": 40,
   "metadata": {},
   "outputs": [
    {
     "data": {
      "text/plain": [
       "(404, 404, 16, 17)"
      ]
     },
     "execution_count": 40,
     "metadata": {},
     "output_type": "execute_result"
    }
   ],
   "source": [
    "max(df['BEFORE_BODY_LEN']), max(df['AFTER_BODY_LEN']), max(df['BEFORE_HEADLINE_LEN']), max(df['AFTER_HEADLINE_LEN'])"
   ]
  },
  {
   "cell_type": "markdown",
   "metadata": {},
   "source": [
    "BERT 모델에 BEFORE_HEADLINE|BEFORE_BODY와 AFTER_HEADLINE|AFTER_BODY 를 랜덤하게 앞뒤로 넣어서 NSP 태스크로 해결해보자. shuffle = 0 이면 AFTER|BEFORE, 1이면 BEFORE|AFTER 로 하자."
   ]
  },
  {
   "cell_type": "code",
   "execution_count": 64,
   "metadata": {},
   "outputs": [],
   "source": [
    "df['Label'] = df['BEFORE_BODY_LEN'].apply(lambda x: random.randint(0,1))"
   ]
  },
  {
   "cell_type": "code",
   "execution_count": 102,
   "metadata": {},
   "outputs": [],
   "source": [
    "X, X_BODY, Y, Y_BODY, Text, Text_BODY = [], [], [], [], [], []\n",
    "for i in range(len(df)):\n",
    "    if df['Label'][i] == 0:\n",
    "        X.append(str(df['AFTER_HEADLINE'][i])+'|'+df['AFTER_BODY'][i])\n",
    "        X_BODY.append(df['AFTER_BODY'][i])\n",
    "        Y.append(str(df['BEFORE_HEADLINE'][i])+'|'+df['BEFORE_BODY'][i])\n",
    "        Y_BODY.append(df['BEFORE_BODY'][i])\n",
    "        Text.append('[CLS]'+str(df['AFTER_HEADLINE'][i])+'|'+df['AFTER_BODY'][i]+'[SEP]'+str(df['BEFORE_HEADLINE'][i])+'|'+df['BEFORE_BODY'][i])\n",
    "        Text_BODY.append('[CLS]'+'|'+df['AFTER_BODY'][i]+'[SEP]'+'|'+df['BEFORE_BODY'][i])\n",
    "    else:\n",
    "        X.append(str(df['BEFORE_HEADLINE'][i])+'|'+df['BEFORE_BODY'][i])\n",
    "        X_BODY.append(df['BEFORE_BODY'][i])\n",
    "        Y.append(str(df['AFTER_HEADLINE'][i])+'|'+df['AFTER_BODY'][i])\n",
    "        Y_BODY.append(df['AFTER_BODY'][i])\n",
    "        Text.append('[CLS]'+str(df['BEFORE_HEADLINE'][i])+'|'+df['BEFORE_BODY'][i]+'[SEP]'+str(df['AFTER_HEADLINE'][i])+'|'+df['AFTER_BODY'][i])\n",
    "        Text_BODY.append('[CLS]'+df['BEFORE_BODY'][i]+'|'+'[SEP]'+'|'+df['AFTER_BODY'][i])"
   ]
  },
  {
   "cell_type": "code",
   "execution_count": 75,
   "metadata": {},
   "outputs": [
    {
     "data": {
      "text/plain": [
       "('Weather, LNG Exports Pace Near-, Long-Term Gas Demand: Bull Case|Changes in weather affect near-term gas prices, and a mild summer this year may be followed by a warmer-than-average winter, which could pressure prices. Longer-term, the abundant supply of U.S. natural gas will require an additional demand outlet to soak up incremental output to sustain or raise prices. The likely emergence of exports of liquefied natural gas to Asia may satisfy that need. Industrial growth in the U.S. may raise natural gas consumption as well.',\n",
       " 'Changes in weather affect near-term gas prices, and a mild summer this year may be followed by a warmer-than-average winter, which could pressure prices. Longer-term, the abundant supply of U.S. natural gas will require an additional demand outlet to soak up incremental output to sustain or raise prices. The likely emergence of exports of liquefied natural gas to Asia may satisfy that need. Industrial growth in the U.S. may raise natural gas consumption as well.')"
      ]
     },
     "execution_count": 75,
     "metadata": {},
     "output_type": "execute_result"
    }
   ],
   "source": [
    "X[0], X_BODY[0]"
   ]
  },
  {
   "cell_type": "code",
   "execution_count": 76,
   "metadata": {},
   "outputs": [
    {
     "data": {
      "text/plain": [
       "('Weather Volatility Keeps Gas Bulls Guessing on Price Outlook|Domestic natural gas benchmark prices may be restrained in the near term given resilient output, in-line storage levels and expectations of less winter heating demand. Milder weather is forecast for the next eight to 14 days. While prices may show seasonal volatility, gas demand will remain restrained near-term if weather is subdued. Gas must compete for market share with coal and nuclear power. Near-term capacity constraints and weather will continue to affect winter basis differentials.',\n",
       " 'Domestic natural gas benchmark prices may be restrained in the near term given resilient output, in-line storage levels and expectations of less winter heating demand. Milder weather is forecast for the next eight to 14 days. While prices may show seasonal volatility, gas demand will remain restrained near-term if weather is subdued. Gas must compete for market share with coal and nuclear power. Near-term capacity constraints and weather will continue to affect winter basis differentials.')"
      ]
     },
     "execution_count": 76,
     "metadata": {},
     "output_type": "execute_result"
    }
   ],
   "source": [
    "Y[0], Y_BODY[0]"
   ]
  },
  {
   "cell_type": "code",
   "execution_count": 100,
   "metadata": {},
   "outputs": [
    {
     "data": {
      "text/plain": [
       "'[CLS]Weather, LNG Exports Pace Near-, Long-Term Gas Demand: Bull Case|Changes in weather affect near-term gas prices, and a mild summer this year may be followed by a warmer-than-average winter, which could pressure prices. Longer-term, the abundant supply of U.S. natural gas will require an additional demand outlet to soak up incremental output to sustain or raise prices. The likely emergence of exports of liquefied natural gas to Asia may satisfy that need. Industrial growth in the U.S. may raise natural gas consumption as well.[SEP]Weather Volatility Keeps Gas Bulls Guessing on Price Outlook|Domestic natural gas benchmark prices may be restrained in the near term given resilient output, in-line storage levels and expectations of less winter heating demand. Milder weather is forecast for the next eight to 14 days. While prices may show seasonal volatility, gas demand will remain restrained near-term if weather is subdued. Gas must compete for market share with coal and nuclear power. Near-term capacity constraints and weather will continue to affect winter basis differentials.'"
      ]
     },
     "execution_count": 100,
     "metadata": {},
     "output_type": "execute_result"
    }
   ],
   "source": [
    "Text[0]"
   ]
  },
  {
   "cell_type": "code",
   "execution_count": 72,
   "metadata": {},
   "outputs": [
    {
     "data": {
      "text/plain": [
       "1"
      ]
     },
     "execution_count": 72,
     "metadata": {},
     "output_type": "execute_result"
    }
   ],
   "source": [
    "df['Label'][0]"
   ]
  },
  {
   "cell_type": "code",
   "execution_count": 116,
   "metadata": {},
   "outputs": [
    {
     "data": {
      "text/plain": [
       "('DZ Bank Keeps Deutsche Bank at \\'Sell\\' Despite Settlement|DZ Bank retains its sell rating on Deutsche Bank, with at EUR15 price target, saying the settlement reached with U.S. and U.K. authorities in a money-laundering probe in Russia is \"acceptable overall and substantially below expectations\" of up to EUR1.5B ($1.6 billion). Despite this settlement, various legal matters have yet to be resolved, DZ says, with Deutsche Bank\\'s capitalization remaining below peer-average. A tougher legal environment, Deutsche Bank\\'s weak business development, and an unattractively high cost-revenue balance also continue to underpin DZ\\'s negativity. Deutsche Bank shares are up 1.1% at EUR18.89, having slipped from early-day gains of 2.1%. ',\n",
       " \"Deutsche Bank Gains Pre-Market On DoJ Mortgage Settlement|Deutsche Bank shares up 1% premarket after news late Tuesday that it completed --as expected-- a $7.2B settlement with the U.S. Justice Department over claims it misled investors on mortgage securities before the U.S. housing collapse. Traders said the settlement was in line with expectations but generally good for the share as it resolves another legal matter of the bank's many. The settlement removes a big legal headache, but Deutsche Bank itself said it is still too early to draw a line, considering other open probes. The bank has said that it expects 4Q earnings to take a pretax hit of nearly $1.2B on the settlement. U.S. bank earnings will be the next drivers for the share, according to traders. \")"
      ]
     },
     "execution_count": 116,
     "metadata": {},
     "output_type": "execute_result"
    }
   ],
   "source": [
    "X[1], Y[1]"
   ]
  },
  {
   "cell_type": "markdown",
   "metadata": {},
   "source": [
    "dev셋을 20% 쓰자. "
   ]
  },
  {
   "cell_type": "code",
   "execution_count": 103,
   "metadata": {},
   "outputs": [],
   "source": [
    "df['X'] = X\n",
    "df['X_BODY'] = X_BODY\n",
    "df['Y'] = Y\n",
    "df['Y_BODY'] = Y_BODY\n",
    "df['Text'] = Text\n",
    "df['Text_BODY'] = Text_BODY"
   ]
  },
  {
   "cell_type": "code",
   "execution_count": 117,
   "metadata": {},
   "outputs": [
    {
     "data": {
      "text/html": [
       "<div>\n",
       "<style scoped>\n",
       "    .dataframe tbody tr th:only-of-type {\n",
       "        vertical-align: middle;\n",
       "    }\n",
       "\n",
       "    .dataframe tbody tr th {\n",
       "        vertical-align: top;\n",
       "    }\n",
       "\n",
       "    .dataframe thead th {\n",
       "        text-align: right;\n",
       "    }\n",
       "</style>\n",
       "<table border=\"1\" class=\"dataframe\">\n",
       "  <thead>\n",
       "    <tr style=\"text-align: right;\">\n",
       "      <th></th>\n",
       "      <th>INDEX</th>\n",
       "      <th>BEFORE_HEADLINE</th>\n",
       "      <th>BEFORE_BODY</th>\n",
       "      <th>AFTER_HEADLINE</th>\n",
       "      <th>AFTER_BODY</th>\n",
       "      <th>BEFORE_BODY_LEN</th>\n",
       "      <th>AFTER_BODY_LEN</th>\n",
       "      <th>BEFORE_HEADLINE_LEN</th>\n",
       "      <th>AFTER_HEADLINE_LEN</th>\n",
       "      <th>shuffle</th>\n",
       "      <th>Label</th>\n",
       "      <th>X</th>\n",
       "      <th>X_BODY</th>\n",
       "      <th>Y</th>\n",
       "      <th>Y_BODY</th>\n",
       "      <th>prob</th>\n",
       "      <th>class</th>\n",
       "      <th>Text</th>\n",
       "      <th>Text_BODY</th>\n",
       "    </tr>\n",
       "  </thead>\n",
       "  <tbody>\n",
       "    <tr>\n",
       "      <th>0</th>\n",
       "      <td>0</td>\n",
       "      <td>Weather, LNG Exports Pace Near-, Long-Term Gas...</td>\n",
       "      <td>Changes in weather affect near-term gas prices...</td>\n",
       "      <td>Weather Volatility Keeps Gas Bulls Guessing on...</td>\n",
       "      <td>Domestic natural gas benchmark prices may be r...</td>\n",
       "      <td>75</td>\n",
       "      <td>75</td>\n",
       "      <td>10</td>\n",
       "      <td>9</td>\n",
       "      <td>0</td>\n",
       "      <td>1</td>\n",
       "      <td>Weather, LNG Exports Pace Near-, Long-Term Gas...</td>\n",
       "      <td>Changes in weather affect near-term gas prices...</td>\n",
       "      <td>Weather Volatility Keeps Gas Bulls Guessing on...</td>\n",
       "      <td>Domestic natural gas benchmark prices may be r...</td>\n",
       "      <td>0.715645</td>\n",
       "      <td>train</td>\n",
       "      <td>[CLS]Weather, LNG Exports Pace Near-, Long-Ter...</td>\n",
       "      <td>[CLS]Changes in weather affect near-term gas p...</td>\n",
       "    </tr>\n",
       "    <tr>\n",
       "      <th>1</th>\n",
       "      <td>1</td>\n",
       "      <td>Deutsche Bank Gains Pre-Market On DoJ Mortgage...</td>\n",
       "      <td>Deutsche Bank shares up 1% premarket after new...</td>\n",
       "      <td>DZ Bank Keeps Deutsche Bank at 'Sell' Despite ...</td>\n",
       "      <td>DZ Bank retains its sell rating on Deutsche Ba...</td>\n",
       "      <td>120</td>\n",
       "      <td>98</td>\n",
       "      <td>8</td>\n",
       "      <td>9</td>\n",
       "      <td>0</td>\n",
       "      <td>0</td>\n",
       "      <td>DZ Bank Keeps Deutsche Bank at 'Sell' Despite ...</td>\n",
       "      <td>DZ Bank retains its sell rating on Deutsche Ba...</td>\n",
       "      <td>Deutsche Bank Gains Pre-Market On DoJ Mortgage...</td>\n",
       "      <td>Deutsche Bank shares up 1% premarket after new...</td>\n",
       "      <td>0.958877</td>\n",
       "      <td>dev</td>\n",
       "      <td>[CLS]DZ Bank Keeps Deutsche Bank at 'Sell' Des...</td>\n",
       "      <td>[CLS]|DZ Bank retains its sell rating on Deuts...</td>\n",
       "    </tr>\n",
       "    <tr>\n",
       "      <th>2</th>\n",
       "      <td>2</td>\n",
       "      <td>Select Sector Rally Suggests Bullish HK Undertone</td>\n",
       "      <td>HK rebound today, which snaps 4-day losing str...</td>\n",
       "      <td>HK Short Sales Off 8.9% Friday;Bank Of China Tops</td>\n",
       "      <td>HK short-selling volume down 8.9% at HK$4.763 ...</td>\n",
       "      <td>90</td>\n",
       "      <td>57</td>\n",
       "      <td>7</td>\n",
       "      <td>9</td>\n",
       "      <td>1</td>\n",
       "      <td>1</td>\n",
       "      <td>Select Sector Rally Suggests Bullish HK Undert...</td>\n",
       "      <td>HK rebound today, which snaps 4-day losing str...</td>\n",
       "      <td>HK Short Sales Off 8.9% Friday;Bank Of China T...</td>\n",
       "      <td>HK short-selling volume down 8.9% at HK$4.763 ...</td>\n",
       "      <td>0.990721</td>\n",
       "      <td>dev</td>\n",
       "      <td>[CLS]Select Sector Rally Suggests Bullish HK U...</td>\n",
       "      <td>[CLS]HK rebound today, which snaps 4-day losin...</td>\n",
       "    </tr>\n",
       "    <tr>\n",
       "      <th>3</th>\n",
       "      <td>3</td>\n",
       "      <td>Mexico City's F1 Grand Prix Drives Hotel Revpa...</td>\n",
       "      <td>Mexico's hotel revenue per available room rose...</td>\n",
       "      <td>Mexican Hotels' Revpar Surged on F1 Grand Prix...</td>\n",
       "      <td>Mexico's hotel revenue per available room rose...</td>\n",
       "      <td>83</td>\n",
       "      <td>87</td>\n",
       "      <td>10</td>\n",
       "      <td>10</td>\n",
       "      <td>1</td>\n",
       "      <td>1</td>\n",
       "      <td>Mexico City's F1 Grand Prix Drives Hotel Revpa...</td>\n",
       "      <td>Mexico's hotel revenue per available room rose...</td>\n",
       "      <td>Mexican Hotels' Revpar Surged on F1 Grand Prix...</td>\n",
       "      <td>Mexico's hotel revenue per available room rose...</td>\n",
       "      <td>0.350287</td>\n",
       "      <td>train</td>\n",
       "      <td>[CLS]Mexico City's F1 Grand Prix Drives Hotel ...</td>\n",
       "      <td>[CLS]Mexico's hotel revenue per available room...</td>\n",
       "    </tr>\n",
       "    <tr>\n",
       "      <th>4</th>\n",
       "      <td>4</td>\n",
       "      <td>Gas Injection Again Tops Estimate as Weather I...</td>\n",
       "      <td>Natural gas injections into storage continued ...</td>\n",
       "      <td>Gas Draw Tops Estimate as Weather Ups Demand Y...</td>\n",
       "      <td>The market produced the first withdrawals from...</td>\n",
       "      <td>83</td>\n",
       "      <td>91</td>\n",
       "      <td>10</td>\n",
       "      <td>11</td>\n",
       "      <td>0</td>\n",
       "      <td>0</td>\n",
       "      <td>Gas Draw Tops Estimate as Weather Ups Demand Y...</td>\n",
       "      <td>The market produced the first withdrawals from...</td>\n",
       "      <td>Gas Injection Again Tops Estimate as Weather I...</td>\n",
       "      <td>Natural gas injections into storage continued ...</td>\n",
       "      <td>0.849030</td>\n",
       "      <td>dev</td>\n",
       "      <td>[CLS]Gas Draw Tops Estimate as Weather Ups Dem...</td>\n",
       "      <td>[CLS]|The market produced the first withdrawal...</td>\n",
       "    </tr>\n",
       "  </tbody>\n",
       "</table>\n",
       "</div>"
      ],
      "text/plain": [
       "   INDEX                                    BEFORE_HEADLINE  \\\n",
       "0      0  Weather, LNG Exports Pace Near-, Long-Term Gas...   \n",
       "1      1  Deutsche Bank Gains Pre-Market On DoJ Mortgage...   \n",
       "2      2  Select Sector Rally Suggests Bullish HK Undertone   \n",
       "3      3  Mexico City's F1 Grand Prix Drives Hotel Revpa...   \n",
       "4      4  Gas Injection Again Tops Estimate as Weather I...   \n",
       "\n",
       "                                         BEFORE_BODY  \\\n",
       "0  Changes in weather affect near-term gas prices...   \n",
       "1  Deutsche Bank shares up 1% premarket after new...   \n",
       "2  HK rebound today, which snaps 4-day losing str...   \n",
       "3  Mexico's hotel revenue per available room rose...   \n",
       "4  Natural gas injections into storage continued ...   \n",
       "\n",
       "                                      AFTER_HEADLINE  \\\n",
       "0  Weather Volatility Keeps Gas Bulls Guessing on...   \n",
       "1  DZ Bank Keeps Deutsche Bank at 'Sell' Despite ...   \n",
       "2  HK Short Sales Off 8.9% Friday;Bank Of China Tops   \n",
       "3  Mexican Hotels' Revpar Surged on F1 Grand Prix...   \n",
       "4  Gas Draw Tops Estimate as Weather Ups Demand Y...   \n",
       "\n",
       "                                          AFTER_BODY  BEFORE_BODY_LEN  \\\n",
       "0  Domestic natural gas benchmark prices may be r...               75   \n",
       "1  DZ Bank retains its sell rating on Deutsche Ba...              120   \n",
       "2  HK short-selling volume down 8.9% at HK$4.763 ...               90   \n",
       "3  Mexico's hotel revenue per available room rose...               83   \n",
       "4  The market produced the first withdrawals from...               83   \n",
       "\n",
       "   AFTER_BODY_LEN  BEFORE_HEADLINE_LEN  AFTER_HEADLINE_LEN  shuffle  Label  \\\n",
       "0              75                   10                   9        0      1   \n",
       "1              98                    8                   9        0      0   \n",
       "2              57                    7                   9        1      1   \n",
       "3              87                   10                  10        1      1   \n",
       "4              91                   10                  11        0      0   \n",
       "\n",
       "                                                   X  \\\n",
       "0  Weather, LNG Exports Pace Near-, Long-Term Gas...   \n",
       "1  DZ Bank Keeps Deutsche Bank at 'Sell' Despite ...   \n",
       "2  Select Sector Rally Suggests Bullish HK Undert...   \n",
       "3  Mexico City's F1 Grand Prix Drives Hotel Revpa...   \n",
       "4  Gas Draw Tops Estimate as Weather Ups Demand Y...   \n",
       "\n",
       "                                              X_BODY  \\\n",
       "0  Changes in weather affect near-term gas prices...   \n",
       "1  DZ Bank retains its sell rating on Deutsche Ba...   \n",
       "2  HK rebound today, which snaps 4-day losing str...   \n",
       "3  Mexico's hotel revenue per available room rose...   \n",
       "4  The market produced the first withdrawals from...   \n",
       "\n",
       "                                                   Y  \\\n",
       "0  Weather Volatility Keeps Gas Bulls Guessing on...   \n",
       "1  Deutsche Bank Gains Pre-Market On DoJ Mortgage...   \n",
       "2  HK Short Sales Off 8.9% Friday;Bank Of China T...   \n",
       "3  Mexican Hotels' Revpar Surged on F1 Grand Prix...   \n",
       "4  Gas Injection Again Tops Estimate as Weather I...   \n",
       "\n",
       "                                              Y_BODY      prob  class  \\\n",
       "0  Domestic natural gas benchmark prices may be r...  0.715645  train   \n",
       "1  Deutsche Bank shares up 1% premarket after new...  0.958877    dev   \n",
       "2  HK short-selling volume down 8.9% at HK$4.763 ...  0.990721    dev   \n",
       "3  Mexico's hotel revenue per available room rose...  0.350287  train   \n",
       "4  Natural gas injections into storage continued ...  0.849030    dev   \n",
       "\n",
       "                                                Text  \\\n",
       "0  [CLS]Weather, LNG Exports Pace Near-, Long-Ter...   \n",
       "1  [CLS]DZ Bank Keeps Deutsche Bank at 'Sell' Des...   \n",
       "2  [CLS]Select Sector Rally Suggests Bullish HK U...   \n",
       "3  [CLS]Mexico City's F1 Grand Prix Drives Hotel ...   \n",
       "4  [CLS]Gas Draw Tops Estimate as Weather Ups Dem...   \n",
       "\n",
       "                                           Text_BODY  \n",
       "0  [CLS]Changes in weather affect near-term gas p...  \n",
       "1  [CLS]|DZ Bank retains its sell rating on Deuts...  \n",
       "2  [CLS]HK rebound today, which snaps 4-day losin...  \n",
       "3  [CLS]Mexico's hotel revenue per available room...  \n",
       "4  [CLS]|The market produced the first withdrawal...  "
      ]
     },
     "execution_count": 117,
     "metadata": {},
     "output_type": "execute_result"
    }
   ],
   "source": [
    "df.head()"
   ]
  },
  {
   "cell_type": "code",
   "execution_count": 108,
   "metadata": {},
   "outputs": [],
   "source": [
    "df_fin = df[['X', 'Y', 'Label']]"
   ]
  },
  {
   "cell_type": "code",
   "execution_count": 109,
   "metadata": {},
   "outputs": [],
   "source": [
    "df_fin.to_csv('Data/training_preprocessed.csv')"
   ]
  },
  {
   "cell_type": "markdown",
   "metadata": {},
   "source": [
    "이제 Text랑 훈련/검증셋으로 나누자."
   ]
  },
  {
   "cell_type": "code",
   "execution_count": 111,
   "metadata": {},
   "outputs": [
    {
     "name": "stderr",
     "output_type": "stream",
     "text": [
      "/home/inhwan/Python/Pytorch_ev/lib/python3.7/site-packages/ipykernel_launcher.py:1: SettingWithCopyWarning: \n",
      "A value is trying to be set on a copy of a slice from a DataFrame.\n",
      "Try using .loc[row_indexer,col_indexer] = value instead\n",
      "\n",
      "See the caveats in the documentation: https://pandas.pydata.org/pandas-docs/stable/user_guide/indexing.html#returning-a-view-versus-a-copy\n",
      "  \"\"\"Entry point for launching an IPython kernel.\n",
      "/home/inhwan/Python/Pytorch_ev/lib/python3.7/site-packages/ipykernel_launcher.py:7: SettingWithCopyWarning: \n",
      "A value is trying to be set on a copy of a slice from a DataFrame.\n",
      "Try using .loc[row_indexer,col_indexer] = value instead\n",
      "\n",
      "See the caveats in the documentation: https://pandas.pydata.org/pandas-docs/stable/user_guide/indexing.html#returning-a-view-versus-a-copy\n",
      "  import sys\n"
     ]
    }
   ],
   "source": [
    "df_fin['prob'] = [random.random() for _ in range(len(df_fin))]\n",
    "\n",
    "def split_df(prob):\n",
    "    if prob < 0.8: return 'train'\n",
    "    else: return 'dev'\n",
    "    \n",
    "df_fin['class'] = df_fin['prob'].apply(split_df)"
   ]
  },
  {
   "cell_type": "code",
   "execution_count": 113,
   "metadata": {},
   "outputs": [],
   "source": [
    "df_fin_train = df_fin[df_fin['class']=='train'][['X', 'Y', 'Label']]\n",
    "df_fin_valid = df_fin[df_fin['class']=='dev'][['X', 'Y', 'Label']]"
   ]
  },
  {
   "cell_type": "code",
   "execution_count": 114,
   "metadata": {},
   "outputs": [
    {
     "data": {
      "text/plain": [
       "(160277, 39723)"
      ]
     },
     "execution_count": 114,
     "metadata": {},
     "output_type": "execute_result"
    }
   ],
   "source": [
    "len(df_fin_train), len(df_fin_valid)"
   ]
  },
  {
   "cell_type": "code",
   "execution_count": 115,
   "metadata": {},
   "outputs": [],
   "source": [
    "df_fin_train.to_csv('Data/train.csv', index=False)\n",
    "df_fin_valid.to_csv('Data/dev.csv', index=False)"
   ]
  }
 ],
 "metadata": {
  "kernelspec": {
   "display_name": "Python 3",
   "language": "python",
   "name": "python3"
  },
  "language_info": {
   "codemirror_mode": {
    "name": "ipython",
    "version": 3
   },
   "file_extension": ".py",
   "mimetype": "text/x-python",
   "name": "python",
   "nbconvert_exporter": "python",
   "pygments_lexer": "ipython3",
   "version": "3.7.3"
  }
 },
 "nbformat": 4,
 "nbformat_minor": 4
}
